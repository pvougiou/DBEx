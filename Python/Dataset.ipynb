{
 "cells": [
  {
   "cell_type": "code",
   "execution_count": 1,
   "metadata": {
    "collapsed": false
   },
   "outputs": [],
   "source": [
    "import numpy as np\n",
    "import re\n",
    "import pandas as pd\n",
    "pd.set_option('display.max_colwidth', -1)\n",
    "import cPickle as pickle\n",
    "wikipedia_pickle = '../Data/WikiAstronauts/WikiAstronauts-DBpedia.p'\n",
    "medline_pickle = '../Data/MedlinePlus/MedlinePlus-SemRep.p'"
   ]
  },
  {
   "cell_type": "code",
   "execution_count": 2,
   "metadata": {
    "collapsed": false
   },
   "outputs": [],
   "source": [
    "wiki_list = pickle.load( open( wikipedia_pickle, \"rb\" ) )\n",
    "medline_list = pickle.load( open( medline_pickle, \"rb\" ) )"
   ]
  },
  {
   "cell_type": "code",
   "execution_count": 3,
   "metadata": {
    "collapsed": true
   },
   "outputs": [],
   "source": [
    "def clean_annotations(string):\n",
    "    formal = True\n",
    "    annotations = re.findall(r'(\\[\\[[0-9a-zA-Z_.,\\-\\(\\)\\%\\'\\|\\ ]+\\]\\])', string)\n",
    "    if len(annotations) > 0:\n",
    "        for annotation in annotations:\n",
    "            if formal:\n",
    "                replacement = re.findall(r'\\|([0-9a-zA-Z_.,\\-\\(\\)\\%\\']+)\\]\\]', annotation)\n",
    "            else:\n",
    "                replacement = re.findall(r'\\[\\[([0-9a-zA-Z_.,\\-\\(\\)\\%\\'\\ ]+)\\|', annotation)\n",
    "            string = string.replace(annotation, replacement[0])\n",
    "        clean_annotations(string)\n",
    "    return string"
   ]
  },
  {
   "cell_type": "code",
   "execution_count": 4,
   "metadata": {
    "collapsed": false
   },
   "outputs": [
    {
     "name": "stdout",
     "output_type": "stream",
     "text": [
      "['Soyuz_TM-6 crewLaunching Abdul_Ahad_Mohmand']\n"
     ]
    }
   ],
   "source": [
    "namespaces = ['(http\\:\\/\\/dbpedia\\.org/\\w+\\/)', 'http\\:\\/\\/www\\.w3\\.org\\/1999\\/02\\/22\\-rdf\\-syntax\\-ns\\#', 'http\\:\\/\\/www\\.w3\\.org\\/2000\\/01\\/rdf\\-schema\\#']\n",
    "def clean_namespace(triples):\n",
    "    for j in range(0, len(triples)):\n",
    "        for namespace in namespaces:\n",
    "            triples[j] = re.sub(re.compile(namespace, re.DOTALL), '', triples[j])\\\n",
    "              .replace('\\t', '').replace('\\n', '') \n",
    "    return triples\n",
    "print clean_namespace(wiki_list[0]['triples'])"
   ]
  },
  {
   "cell_type": "code",
   "execution_count": 5,
   "metadata": {
    "collapsed": false
   },
   "outputs": [
    {
     "name": "stdout",
     "output_type": "stream",
     "text": [
      "Soyuz_TM-6 <b><font color=\"red\">crewLaunching</font></b> Abdul_Ahad_Mohmand\n"
     ]
    }
   ],
   "source": [
    "def highlight(triples):\n",
    "    for j in range(0, len(triples)):\n",
    "        triples[j] = triples[j].split()\n",
    "        triples[j][1] = '<b><font color=\"red\">' + triples[j][1] + '</font></b>'\n",
    "        triples[j] = ' '.join(triples[j])\n",
    "    return triples\n",
    "print highlight((wiki_list[0]['triples']))[0]"
   ]
  },
  {
   "cell_type": "code",
   "execution_count": 6,
   "metadata": {
    "collapsed": false
   },
   "outputs": [],
   "source": [
    "def clean_annotations(original, triples):\n",
    "    #print('Original')\n",
    "    #print original, triples\n",
    "    annotations = re.findall(r'(\\[\\[[0-9a-zA-Z_.,\\-\\(\\)\\%\\'\\|\\ ]+\\]\\])', original)\n",
    "    if len(annotations) > 0:\n",
    "        for annotation in annotations:\n",
    "            formal_part = re.findall(r'\\|([0-9a-zA-Z_.,\\-\\(\\)\\%\\']+)\\]\\]', annotation)[0]\n",
    "            informal_part = re.findall(r'\\[\\[([0-9a-zA-Z_.,\\-\\(\\)\\%\\'\\ ]+)\\|', annotation)[0]\n",
    "            original = original.replace(annotation, informal_part)\n",
    "            #print simplification\n",
    "            #print formal_part\n",
    "            found = False\n",
    "            for i in range(0, len(triples)):\n",
    "                triples[i] = triples[i].split()\n",
    "                for j in range(0, len(triples[i])):\n",
    "                    if formal_part == triples[i][j]:\n",
    "                        triples[i][j] = informal_part\n",
    "                triples[i] = ' '.join(triples[i])\n",
    "                \"\"\"\n",
    "                if formal_part in triples[i]:\n",
    "                    #namespace = re.findall(r'([0-9a-zA-Z_.,\\-\\(\\)\\%\\'\\:\\/])+{}'.format(re.escape(formal_part)), triples[i])[0]\n",
    "                    namespace = re.findall(r'({})'.format(re.escape(formal_part)), triples[i])[0]\n",
    "                    triples[i] = triples[i].replace(namespace, informal_part)\n",
    "                \"\"\"\n",
    "        clean_annotations(original, triples)\n",
    "    return original, triples"
   ]
  },
  {
   "cell_type": "code",
   "execution_count": 7,
   "metadata": {
    "collapsed": false
   },
   "outputs": [],
   "source": [
    "def setup_experiment(list):\n",
    "    num_sentences = 15\n",
    "    incl_sentences = []\n",
    "    while len(incl_sentences) < num_sentences:\n",
    "        sentence = np.random.randint(0, len(list))\n",
    "        init_triples = highlight(clean_namespace(list[sentence]['triples']))\n",
    "        annotated_sentence, triples = clean_annotations(list[sentence]['annotated_sentence'].replace('\\t', '').replace('\\n', ''), \\\n",
    "                                              init_triples)\n",
    "        triples = triples\n",
    "\n",
    "        incl_sentences.append({'Original Sentence': annotated_sentence})\n",
    "        incl_sentences[len(incl_sentences) - 1]['Triple-Fact 1'] = triples[0]         \n",
    "        for j in range(1, len(list[sentence]['triples'])):\n",
    "            incl_sentences[len(incl_sentences) - 1][('Triple-Fact %d' % (j + 1))] = triples[j]\n",
    "        list.pop(sentence)\n",
    "    return incl_sentences    "
   ]
  },
  {
   "cell_type": "code",
   "execution_count": 8,
   "metadata": {
    "collapsed": false
   },
   "outputs": [
    {
     "data": {
      "text/plain": [
       "\"\\ndef setup_experiment(list):\\n    num_sentences = 15\\n    incl_sentences = []\\n    while len(incl_sentences) < num_sentences:\\n        sentence = np.random.randint(0, len(list))\\n        init_triples = clean_namespace(list[sentence]['triples'])\\n        annotated_sentence, triples = clean_annotations(list[sentence]['annotated_sentence'].replace('\\t', '').replace('\\n', ''),                                               init_triples)\\n\\n        incl_sentences.append({'Original Sentence': annotated_sentence, 'Triple-Facts': ', '.join(triples)})\\n        list.pop(sentence)\\n    return incl_sentences\\n\""
      ]
     },
     "execution_count": 8,
     "metadata": {},
     "output_type": "execute_result"
    }
   ],
   "source": [
    "\"\"\"\n",
    "def setup_experiment(list):\n",
    "    num_sentences = 15\n",
    "    incl_sentences = []\n",
    "    while len(incl_sentences) < num_sentences:\n",
    "        sentence = np.random.randint(0, len(list))\n",
    "        init_triples = clean_namespace(list[sentence]['triples'])\n",
    "        annotated_sentence, triples = clean_annotations(list[sentence]['annotated_sentence'].replace('\\t', '').replace('\\n', ''), \\\n",
    "                                              init_triples)\n",
    "\n",
    "        incl_sentences.append({'Original Sentence': annotated_sentence, 'Triple-Facts': ', '.join(triples)})\n",
    "        list.pop(sentence)\n",
    "    return incl_sentences\n",
    "\"\"\""
   ]
  },
  {
   "cell_type": "code",
   "execution_count": 9,
   "metadata": {
    "collapsed": false
   },
   "outputs": [],
   "source": [
    "#output_df = pd.DataFrame(setup_experiment(wiki_list + medline_list))\n",
    "output_df = pd.DataFrame(setup_experiment(wiki_list))\n",
    "output_df.to_csv('../Data/Experiment.csv', index=False)"
   ]
  }
 ],
 "metadata": {
  "kernelspec": {
   "display_name": "Python 2",
   "language": "python",
   "name": "python2"
  },
  "language_info": {
   "codemirror_mode": {
    "name": "ipython",
    "version": 2
   },
   "file_extension": ".py",
   "mimetype": "text/x-python",
   "name": "python",
   "nbconvert_exporter": "python",
   "pygments_lexer": "ipython2",
   "version": "2.7.12"
  }
 },
 "nbformat": 4,
 "nbformat_minor": 1
}
