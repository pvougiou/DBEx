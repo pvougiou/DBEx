{
 "cells": [
  {
   "cell_type": "code",
   "execution_count": 1,
   "metadata": {
    "collapsed": true
   },
   "outputs": [],
   "source": [
    "import os\n",
    "import glob\n",
    "import xml.etree.ElementTree as ET\n",
    "import cPickle as pickle"
   ]
  },
  {
   "cell_type": "code",
   "execution_count": 2,
   "metadata": {
    "collapsed": false
   },
   "outputs": [],
   "source": [
    "xml_directory = '../Wikipedia/xml/'\n",
    "instances = {}\n",
    "for filename in glob.glob(os.path.join(xml_directory, '*.xml')):\n",
    "    with open(filename, 'r') as xml_file:\n",
    "        instance = xml_file.read().decode('utf-8', 'ignore')\n",
    "        try:\n",
    "            tempTitle = filename[:-4].replace('../Wikipedia/xml/', '')\n",
    "            root = ET.fromstring(instance)\n",
    "            instances[tempTitle] = {'sentence': [], 'annotated_sentence': [], 'triples': []}\n",
    "            for i in range(0, len(root)):\n",
    "                instances[tempTitle]['sentence'].append(root[i][0].text.replace('\\t', '').decode('utf-8', 'ignore'))\n",
    "                instances[tempTitle]['annotated_sentence'].append(root[i][2].text.replace('\\t', '').decode('utf-8', 'ignore'))\n",
    "                instances[tempTitle]['triples'].append([])\n",
    "                for j in range(0, len(root[i][5])):\n",
    "                    instances[tempTitle]['triples'][len(instances[tempTitle]['triples']) - 1].append(root[i][5][j].text.replace('\\n', '').\\\n",
    "                                                                               replace('\\t', '').\\\n",
    "                                                                               decode('utf-8', 'ignore'))\n",
    "        except ET.ParseError:\n",
    "            pass"
   ]
  },
  {
   "cell_type": "code",
   "execution_count": 22,
   "metadata": {
    "collapsed": false
   },
   "outputs": [
    {
     "data": {
      "text/plain": [
       "54"
      ]
     },
     "execution_count": 22,
     "metadata": {},
     "output_type": "execute_result"
    }
   ],
   "source": [
    "len(instances['Alan_Bean']['annotated_sentence'])"
   ]
  },
  {
   "cell_type": "code",
   "execution_count": 23,
   "metadata": {
    "collapsed": false
   },
   "outputs": [
    {
     "data": {
      "text/plain": [
       "[u'http://dbpedia.org/resource/Alan_Bean http://www.w3.org/1999/02/22-rdf-syntax-ns#type http://dbpedia.org/ontology/Astronaut',\n",
       " u'http://dbpedia.org/resource/Alan_Bean http://dbpedia.org/ontology/type http://dbpedia.org/resource/NASA']"
      ]
     },
     "execution_count": 23,
     "metadata": {},
     "output_type": "execute_result"
    }
   ],
   "source": [
    "instances['Alan_Bean']['triples'][1]"
   ]
  },
  {
   "cell_type": "code",
   "execution_count": 24,
   "metadata": {
    "collapsed": false
   },
   "outputs": [],
   "source": [
    "dataset_location = '../Wikipedia/Dataset.p'\n",
    "with open(dataset_location, 'wb') as f:\n",
    "    pickle.dump(instances, f)"
   ]
  },
  {
   "cell_type": "code",
   "execution_count": 5,
   "metadata": {
    "collapsed": false
   },
   "outputs": [
    {
     "data": {
      "text/plain": [
       "[u'Norman Earl Thagard (born July 3, 1943) is an American scientist and former NASA astronaut.',\n",
       " u'He is the first American to ride to space on board a Russian vehicle, and can be considered the first American cosmonaut.',\n",
       " u'He did this on March 14, 1995 in the Soyuz TM-21 spacecraft for the Russian Mir-18 mission.',\n",
       " u'Thagard was born in Marianna, Florida, but considers Jacksonville, Florida, to be his hometown.',\n",
       " u'He is married to Rex Kirby Johnson, formerly of South Ponte Vedra Beach, Florida.',\n",
       " u'They have three sons.',\n",
       " u'During his free time, he enjoys classical music, and electronic design.',\n",
       " u'Thagard has published articles on digital and analog electronic design.',\n",
       " u'His father, Mr. James E. Thagard, and his mother, Mrs. Mary F. Key, are both deceased.',\n",
       " u'Thagard held a number of research and teaching posts while completing the academic requirements for various earned degrees.',\n",
       " u'In September 1966 he entered active duty with the United States Marine Corps Reserve.',\n",
       " u'He achieved the rank of Captain in 1967, was designated a naval aviator in 1968, and was subsequently assigned to duty flying F-4 Phantom IIs with VMFA-333 at Marine Corps Air Station Beaufort, South Carolina.',\n",
       " u'He flew 163 combat missions in Vietnam while assigned to VMFA-115 from January 1969 to 1970.',\n",
       " u'He returned to the United States and an assignment as aviation weapons division officer with VMFA-251 at the Marine Corps Air Station, Beaufort, South Carolina.',\n",
       " u'Thagard resumed his academic studies in 1971, pursuing additional studies in electrical engineering, and a degree in medicine; prior to coming to NASA, he was interning in the Department of Internal Medicine at the Medical University of South Carolina.',\n",
       " u'He is a licensed physician.',\n",
       " u'He is a pilot and has logged over 2,200 hours flying time of which the majority was in jet aircraft.',\n",
       " u'Thagard was selected as an astronaut candidate by NASA in January 1978.',\n",
       " u'In August 1979, he completed a one-year training and evaluation period, making him eligible for assignment as a mission specialist on future Space Shuttle flights.',\n",
       " u'A veteran of five space flights, he logged over 140 days in space.',\n",
       " u'He was a mission specialist on STS-7 in 1983, STS-51-B in 1985, STS-30 in 1989, was the payload commander on STS-42 in 1992, and was the cosmonaut/researcher on the Russian Mir-18 mission in 1995.',\n",
       " u'Thagard first flew on the crew of STS-7, which launched from Kennedy Space Center, Florida, on June 18, 1983.',\n",
       " u'This was the second flight for the Orbiter Challenger and the first mission with a crew of five persons.',\n",
       " u'During the mission, the STS-7 crew deployed satellites for Canada (ANIK C-2) and Indonesia (Palapa B1); operated the Canadian-built Remote Manipulator System (RMS) to perform the first deployment and retrieval exercise with the Shuttle Pallet Satellite (SPAS-01); conducted the first formation flying of the Orbiter with a free-flying satellite (SPAS-01); carried and operated the first U.S./German cooperative materials science payload (OSTA-2); and operated the Continuous Flow Electrophoresis System (CFES) and the Monodisperse Latex Reactor (MLR) experiments, in addition to activating seven \"Getaway Specials.\"',\n",
       " u'During the flight Dr. Thagard conducted various medical tests and collected data on physiological changes associated with astronaut adaptation to space.',\n",
       " u'He also retrieved the rotating SPAS-01 using the RMS.',\n",
       " u'Mission duration was 147 hours before landing at Edwards Air Force Base, California, on June 24, 1983.',\n",
       " u'Thagard then flew on STS-51-B, the Spacelab-3 science mission, which launched from Kennedy Space Center, Florida, on April 29, 1985, aboard the Challenger.',\n",
       " u'He assisted the commander and pilot on ascent and entry.',\n",
       " u'Mission duration was 168 hours.',\n",
       " u'Duties on orbit included satellite deployment operation with the NUSAT satellite as well as animal care for the 24 rats and two squirrel monkeys contained in the Research Animal Holding Facility (RAHF).',\n",
       " u'Other duties were operation of the Geophysical Fluid Flow Cell (GFFC), Urinary Monitoring System (UMS), and the Ionization States of Solar and Galactic Cosmic Ray Heavy Nuclei (IONS) experiment.',\n",
       " u'After 110 orbits of the Earth, Challenger landed at Edwards Air Force Base, California, on May 6, 1985.',\n",
       " u'He next served on the crew of STS-30, which launched from Kennedy Space Center, Florida, on May 4, 1989, aboard the Orbiter Atlantis.',\n",
       " u'During this four-day mission, crew members successfully deployed the Magellan Venus-exploration spacecraft, the first U.S. planetary science mission launched since 1978, and the first planetary probe to be deployed from the Shuttle.',\n",
       " u'Magellan arrived at Venus in mid-1990 and mapped the entire surface of Venus using specialized radar instruments.',\n",
       " u'In addition, crew members also worked on secondary payloads involving fluid research in general, chemistry and electrical storm studies.',\n",
       " u'Mission duration was 97 hours.',\n",
       " u'Following 64 orbits of the Earth, the STS-30 mission concluded with a landing at Edwards Air Force Base, California, on May 8, 1989.',\n",
       " u'Thagard served as payload commander on STS-42, aboard the Shuttle Discovery, which lifted off from the Kennedy Space Center, Florida, on January 22, 1992.',\n",
       " u'Fifty five major experiments conducted in the International Microgravity Laboratory-1 module were provided by investigators from eleven countries, and represented a broad spectrum of scientific disciplines.',\n",
       " u\"During 128 orbits of the Earth, the STS-42 crew accomplished the mission's primary objective of investigating the effects of microgravity on materials processing and life sciences.\",\n",
       " u'In this unique laboratory in space, crew members worked around-the-clock in two shifts.',\n",
       " u'Experiments investigated the microgravity effects on the growth of protein and semiconductor crystals.',\n",
       " u'Biological experiments on the effects of zero gravity on plants, tissues, bacteria, insects and human vestibular response were also conducted.',\n",
       " u'This eight-day mission culminated in a landing at Edwards Air Force Base, California, on January 30, 1992.',\n",
       " u'On his last mission, Thagard was a crew member for the Russian Mir 18 mission.',\n",
       " u'Twenty eight experiments were conducted in the course of the 115 day flight.',\n",
       " u'Liftoff was from the Baikonur Cosmodrome in Kazakstan on March 14, 1995.',\n",
       " u'The mission culminated in a landing at the Kennedy Space Center in the Space Shuttle Atlantis on July 7, 1995.']"
      ]
     },
     "execution_count": 5,
     "metadata": {},
     "output_type": "execute_result"
    }
   ],
   "source": [
    "instances['Norman_Thagard']['sentence']"
   ]
  },
  {
   "cell_type": "code",
   "execution_count": null,
   "metadata": {
    "collapsed": true
   },
   "outputs": [],
   "source": []
  }
 ],
 "metadata": {
  "kernelspec": {
   "display_name": "Python 2",
   "language": "python",
   "name": "python2"
  },
  "language_info": {
   "codemirror_mode": {
    "name": "ipython",
    "version": 2
   },
   "file_extension": ".py",
   "mimetype": "text/x-python",
   "name": "python",
   "nbconvert_exporter": "python",
   "pygments_lexer": "ipython2",
   "version": "2.7.13"
  }
 },
 "nbformat": 4,
 "nbformat_minor": 0
}
