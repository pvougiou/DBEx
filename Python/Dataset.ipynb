{
 "cells": [
  {
   "cell_type": "code",
   "execution_count": 16,
   "metadata": {
    "collapsed": true
   },
   "outputs": [],
   "source": [
    "import os\n",
    "import glob\n",
    "import xml.etree.ElementTree as ET\n",
    "import cPickle as pickle"
   ]
  },
  {
   "cell_type": "code",
   "execution_count": 21,
   "metadata": {
    "collapsed": false
   },
   "outputs": [],
   "source": [
    "xml_directory = '../Wikipedia/xml/'\n",
    "instances = {}\n",
    "for filename in glob.glob(os.path.join(xml_directory, '*.xml')):\n",
    "    with open(filename, 'r') as xml_file:\n",
    "        instance = xml_file.read().decode('utf-8', 'ignore')\n",
    "        try:\n",
    "            tempTitle = filename[:-4].replace('../Wikipedia/xml/', '')\n",
    "            root = ET.fromstring(instance)\n",
    "            instances[tempTitle] = {'sentence': [], 'annotated_sentence': [], 'triples': []}\n",
    "            for i in range(0, len(root)):\n",
    "                instances[tempTitle]['sentence'].append(root[i][0].text.replace('\\t', '').decode('utf-8', 'ignore'))\n",
    "                instances[tempTitle]['annotated_sentence'].append(root[i][2].text.replace('\\t', '').decode('utf-8', 'ignore'))\n",
    "                instances[tempTitle]['triples'].append([])\n",
    "                for j in range(0, len(root[i][5])):\n",
    "                    instances[tempTitle]['triples'][len(instances[tempTitle]['triples']) - 1].append(root[i][5][j].text.replace('\\n', '').\\\n",
    "                                                                               replace('\\t', '').\\\n",
    "                                                                               decode('utf-8', 'ignore'))\n",
    "        except ET.ParseError:\n",
    "            pass"
   ]
  },
  {
   "cell_type": "code",
   "execution_count": 22,
   "metadata": {
    "collapsed": false
   },
   "outputs": [
    {
     "data": {
      "text/plain": [
       "54"
      ]
     },
     "execution_count": 22,
     "metadata": {},
     "output_type": "execute_result"
    }
   ],
   "source": [
    "len(instances['Alan_Bean']['annotated_sentence'])"
   ]
  },
  {
   "cell_type": "code",
   "execution_count": 23,
   "metadata": {
    "collapsed": false
   },
   "outputs": [
    {
     "data": {
      "text/plain": [
       "[u'http://dbpedia.org/resource/Alan_Bean http://www.w3.org/1999/02/22-rdf-syntax-ns#type http://dbpedia.org/ontology/Astronaut',\n",
       " u'http://dbpedia.org/resource/Alan_Bean http://dbpedia.org/ontology/type http://dbpedia.org/resource/NASA']"
      ]
     },
     "execution_count": 23,
     "metadata": {},
     "output_type": "execute_result"
    }
   ],
   "source": [
    "instances['Alan_Bean']['triples'][1]"
   ]
  },
  {
   "cell_type": "code",
   "execution_count": 24,
   "metadata": {
    "collapsed": false
   },
   "outputs": [],
   "source": [
    "dataset_location = '../Wikipedia/Dataset.p'\n",
    "with open(dataset_location, 'wb') as f:\n",
    "    pickle.dump(instances, f)"
   ]
  },
  {
   "cell_type": "code",
   "execution_count": null,
   "metadata": {
    "collapsed": true
   },
   "outputs": [],
   "source": []
  }
 ],
 "metadata": {
  "kernelspec": {
   "display_name": "Python 2",
   "language": "python",
   "name": "python2"
  },
  "language_info": {
   "codemirror_mode": {
    "name": "ipython",
    "version": 2
   },
   "file_extension": ".py",
   "mimetype": "text/x-python",
   "name": "python",
   "nbconvert_exporter": "python",
   "pygments_lexer": "ipython2",
   "version": "2.7.13"
  }
 },
 "nbformat": 4,
 "nbformat_minor": 0
}
